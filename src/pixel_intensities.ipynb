{
 "cells": [
  {
   "cell_type": "code",
   "execution_count": 1,
   "metadata": {},
   "outputs": [
    {
     "data": {
      "text/html": [
       "<p>To authorize access needed by Earth Engine, open the following\n",
       "        URL in a web browser and follow the instructions:</p>\n",
       "        <p><a href=https://code.earthengine.google.com/client-auth?scopes=https%3A//www.googleapis.com/auth/earthengine%20https%3A//www.googleapis.com/auth/devstorage.full_control&request_id=7ax1wYmcBf4PJC6BHbsNI7hrqb8q8RL0qAKI3iadTf8&tc=rSCu9cbKh5SATmUYBkhiRCrrWWAfjIl38CgHD46OVy8&cc=_ob4qXwM5CoNuuH2tc8ivByi079DP9UxMFuuSoqWiQc>https://code.earthengine.google.com/client-auth?scopes=https%3A//www.googleapis.com/auth/earthengine%20https%3A//www.googleapis.com/auth/devstorage.full_control&request_id=7ax1wYmcBf4PJC6BHbsNI7hrqb8q8RL0qAKI3iadTf8&tc=rSCu9cbKh5SATmUYBkhiRCrrWWAfjIl38CgHD46OVy8&cc=_ob4qXwM5CoNuuH2tc8ivByi079DP9UxMFuuSoqWiQc</a></p>\n",
       "        <p>The authorization workflow will generate a code, which you should paste in the box below.</p>\n",
       "        "
      ],
      "text/plain": [
       "<IPython.core.display.HTML object>"
      ]
     },
     "metadata": {},
     "output_type": "display_data"
    },
    {
     "name": "stdout",
     "output_type": "stream",
     "text": [
      "Opening in existing browser session.\n",
      "\n",
      "Successfully saved authorization token.\n"
     ]
    }
   ],
   "source": [
    "import ee\n",
    "from datetime import datetime\n",
    "\n",
    "ee.Authenticate()\n",
    "ee.Initialize()"
   ]
  },
  {
   "cell_type": "code",
   "execution_count": 6,
   "metadata": {},
   "outputs": [],
   "source": [
    "import pandas as pd\n",
    "\n",
    "random_point_df = pd.read_csv('/media/kursat/TOSHIBA EXT7/projects/satellite/YENI/data/10k_random.csv')\n",
    "coordinates = random_point_df[['lat', 'lon']].values.tolist()\n",
    "\n",
    "start_date = '2022-01-01'\n",
    "end_date = '2023-01-01'"
   ]
  },
  {
   "cell_type": "code",
   "execution_count": 7,
   "metadata": {},
   "outputs": [],
   "source": [
    "dataset = ee.ImageCollection('COPERNICUS/S2')\n",
    "\n",
    "# filter according to time interval\n",
    "filtered_dataset = dataset.filterDate(ee.Date(start_date), ee.Date(end_date))"
   ]
  },
  {
   "cell_type": "code",
   "execution_count": null,
   "metadata": {},
   "outputs": [],
   "source": [
    "import pandas as pd\n",
    "\n",
    "# Assuming end_date is a string in the format 'YYYY-MM-DD'\n",
    "end_date = ee.Date(end_date)\n",
    "\n",
    "data_list = []\n",
    "df_result_list = []\n",
    "\n",
    "for i in range(len(coordinates)):\n",
    "    print(\"Number of point: \", i)\n",
    "    point = ee.Geometry.Point(coordinates[i])\n",
    "    \n",
    "    current_date = ee.Date(start_date)\n",
    "    while current_date.format('YYYY-MM-dd').getInfo() <= end_date.format('YYYY-MM-dd').getInfo():\n",
    "        current_image = filtered_dataset.filterBounds(point).first()\n",
    "        # print(\"current_image\")\n",
    "        if current_image is not None:\n",
    "            rgb_image = current_image.select(['B4', 'B3', 'B2'])\n",
    "            \n",
    "            # Use reduceRegion to get all values, then extract the specific band value\n",
    "            pixel_intensity_dict = rgb_image.reduceRegion(reducer=ee.Reducer.mean(), geometry=point, scale=10).getInfo()\n",
    "            pixel_intensity = pixel_intensity_dict.get('B3')\n",
    "\n",
    "            data_list.append({\n",
    "                'date': current_date.format('YYYY-MM-dd').getInfo(),\n",
    "                'pixel_intensity': pixel_intensity\n",
    "                })\n",
    "        \n",
    "        # print(current_date)\n",
    "        current_date = current_date.advance(1, 'day')\n",
    "    \n",
    "    df = pd.DataFrame(data_list)\n",
    "\n",
    "    print(df)\n",
    "    df_result_list.append(df)"
   ]
  },
  {
   "cell_type": "code",
   "execution_count": 4,
   "metadata": {},
   "outputs": [],
   "source": [
    "df.to_csv('data/100points_pixelIntensitiesB3.csv')"
   ]
  }
 ],
 "metadata": {
  "kernelspec": {
   "display_name": "myEnv",
   "language": "python",
   "name": "python3"
  },
  "language_info": {
   "codemirror_mode": {
    "name": "ipython",
    "version": 3
   },
   "file_extension": ".py",
   "mimetype": "text/x-python",
   "name": "python",
   "nbconvert_exporter": "python",
   "pygments_lexer": "ipython3",
   "version": "3.11.5"
  }
 },
 "nbformat": 4,
 "nbformat_minor": 2
}
